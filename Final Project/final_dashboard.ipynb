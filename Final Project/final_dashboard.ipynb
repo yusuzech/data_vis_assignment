{
 "cells": [
  {
   "cell_type": "code",
   "execution_count": 19,
   "metadata": {},
   "outputs": [],
   "source": [
    "#setup\n",
    "source(\"require_packages.R\")\n",
    "require_packages(c(\"tidyverse\",\"stringr\",\"forcats\",\"lubridate\",\"scales\"))\n",
    "dataset <- readRDS(\"data/dataset.RData\")\n"
   ]
  },
  {
   "cell_type": "code",
   "execution_count": 20,
   "metadata": {},
   "outputs": [
    {
     "data": {
      "text/html": [
       "'LC_COLLATE=English_United States.1252;LC_CTYPE=English_United States.1252;LC_MONETARY=English_United States.1252;LC_NUMERIC=C;LC_TIME=English_United States.1252'"
      ],
      "text/latex": [
       "'LC\\_COLLATE=English\\_United States.1252;LC\\_CTYPE=English\\_United States.1252;LC\\_MONETARY=English\\_United States.1252;LC\\_NUMERIC=C;LC\\_TIME=English\\_United States.1252'"
      ],
      "text/markdown": [
       "'LC_COLLATE=English_United States.1252;LC_CTYPE=English_United States.1252;LC_MONETARY=English_United States.1252;LC_NUMERIC=C;LC_TIME=English_United States.1252'"
      ],
      "text/plain": [
       "[1] \"LC_COLLATE=English_United States.1252;LC_CTYPE=English_United States.1252;LC_MONETARY=English_United States.1252;LC_NUMERIC=C;LC_TIME=English_United States.1252\""
      ]
     },
     "metadata": {},
     "output_type": "display_data"
    },
    {
     "data": {
      "text/html": [
       "<table>\n",
       "<tbody>\n",
       "\t<tr><th scope=row>Total Loan Amount</th><td>$1538M </td></tr>\n",
       "\t<tr><th scope=row>Total Number of Loan</th><td>105,450</td></tr>\n",
       "</tbody>\n",
       "</table>\n"
      ],
      "text/latex": [
       "\\begin{tabular}{r|l}\n",
       "\tTotal Loan Amount & \\$1538M \\\\\n",
       "\tTotal Number of Loan & 105,450\\\\\n",
       "\\end{tabular}\n"
      ],
      "text/markdown": [
       "\n",
       "| Total Loan Amount | $1538M  | \n",
       "| Total Number of Loan | 105,450 | \n",
       "\n",
       "\n"
      ],
      "text/plain": [
       "                     [,1]   \n",
       "Total Loan Amount    $1538M \n",
       "Total Number of Loan 105,450"
      ]
     },
     "metadata": {},
     "output_type": "display_data"
    }
   ],
   "source": [
    "source(\"setup.R\")\n",
    "#A glance of total loan amount; number of loans\n",
    "#what's the order\n",
    "# n_loan_status <- 6\n",
    "# total_loan <- dataset %>%\n",
    "#     group_by(loan_status) %>%\n",
    "#     summarise(total_loan = sum(loan_amnt)) %>%\n",
    "#     spread(key = loan_status, value = total_loan) %>%\n",
    "#     mutate_(total_loan = sum(eval(parse(text = \n",
    "#                                             str_c(str_c(rep(\".[[\",n_loan_status),1:n_loan_status,\"]]\"),c(rep(\"+\",n_loan_status-1),\"\"),collapse = \"\")))));total_loan\n",
    "# total_loan_v <- as.numeric(total_loan)\n",
    "# names(total_loan_v) <- colnames(total_loan);total_loan_v\n",
    "# #result in millions    \n",
    "# total_loan_million_v <- str_c(round(total_loan/1000000,2),\"m\");total_loan_million\n",
    "# names(total_loan_million_v) <- colnames(total_loan);total_loan_million_v\n",
    "# \n",
    "# total_number_loans <- dataset %>%\n",
    "#     group_by(loan_status) %>%\n",
    "#     summarise(total_loan = n()) %>%\n",
    "#     spread(key = loan_status, value = total_loan) %>%\n",
    "#     mutate_(total_loan = sum(eval(parse(text = str_c(str_c(rep(\".[[\",n_loan_status),1:n_loan_status,\"]]\"),c(rep(\"+\",n_loan_status-1),\"\"),collapse = \"\")))));total_number_loans\n",
    "# \n",
    "# total_number_loans_v <- as.numeric(total_number_loans)\n",
    "# names(total_number_loans_v) <- colnames(total_loan);total_number_loans_v\n",
    "Sys.setlocale(\"LC_ALL\",\"English\")\n",
    "select_start_data <- 4\n",
    "select_end_month <- 6\n",
    "\n",
    "total_numbers <- dataset %>%\n",
    "    filter(month(issue_d) %in% c(select_start_data:select_end_month)) %>%\n",
    "    summarise(sum_loan = sum(loan_amnt),num_loan = n())\n",
    "\n",
    "total_numbers_display <- total_numbers %>%\n",
    "    transmute(`Total Loan Amount` = str_c(\"$\",round(sum_loan/1000000),\"M\"),\n",
    "           `Total Number of Loan` = format(num_loan,big.mark = \",\"))\n",
    "text_output <- t(total_numbers_display);text_output\n",
    "#text_out_put <- tibble(a = colnames(total_numbers_display),b = total_numbers_display[1,])"
   ]
  },
  {
   "cell_type": "code",
   "execution_count": 22,
   "metadata": {},
   "outputs": [
    {
     "data": {
      "text/html": [
       "'LC_COLLATE=English_United States.1252;LC_CTYPE=English_United States.1252;LC_MONETARY=English_United States.1252;LC_NUMERIC=C;LC_TIME=English_United States.1252'"
      ],
      "text/latex": [
       "'LC\\_COLLATE=English\\_United States.1252;LC\\_CTYPE=English\\_United States.1252;LC\\_MONETARY=English\\_United States.1252;LC\\_NUMERIC=C;LC\\_TIME=English\\_United States.1252'"
      ],
      "text/markdown": [
       "'LC_COLLATE=English_United States.1252;LC_CTYPE=English_United States.1252;LC_MONETARY=English_United States.1252;LC_NUMERIC=C;LC_TIME=English_United States.1252'"
      ],
      "text/plain": [
       "[1] \"LC_COLLATE=English_United States.1252;LC_CTYPE=English_United States.1252;LC_MONETARY=English_United States.1252;LC_NUMERIC=C;LC_TIME=English_United States.1252\""
      ]
     },
     "metadata": {},
     "output_type": "display_data"
    },
    {
     "data": {},
     "metadata": {},
     "output_type": "display_data"
    },
    {
     "data": {},
     "metadata": {},
     "output_type": "display_data"
    },
    {
     "data": {
      "image/png": "[encoded data removed]",
      "text/plain": [
       "plot without title"
      ]
     },
     "metadata": {},
     "output_type": "display_data"
    },
    {
     "data": {
      "image/png": "[encoded data removed]",
      "text/plain": [
       "plot without title"
      ]
     },
     "metadata": {},
     "output_type": "display_data"
    }
   ],
   "source": [
    "# of notes by loan status YTD\n",
    "# % of notes by loan status YTD\n",
    "Sys.setlocale(\"LC_ALL\",\"English\")\n",
    "YTD_data <- dataset %>%\n",
    "    filter(month(issue_d) %in% c(select_start_data:select_end_month)) %>%\n",
    "    group_by(loan_status) %>%\n",
    "    summarise(num_loan = n()) %>%\n",
    "    mutate(pct_loan = num_loan/sum(num_loan)) \n",
    "\n",
    "YTD_data_disply <- YTD_data %>%\n",
    "    mutate(pct_dispaly = str_c(round(pct_loan*100,2),\"%\"))\n",
    "YTD_display_method = \"count\" #count or percent\n",
    "\n",
    "if(YTD_display_method == \"count\"){\n",
    "    YTD_data_disply %>% \n",
    "        ggplot(mapping = aes(x = loan_status,y = num_loan)) +\n",
    "        geom_col(fill = \"skyblue3\") +\n",
    "        #aethetics\n",
    "        theme_light() +\n",
    "        coord_flip() +\n",
    "        #theme(axis.text.x = element_text(size = rel(1.2),angle = 30, hjust = 1)) +\n",
    "        #extra info\n",
    "        geom_text(mapping = aes(label = format(num_loan,big.mark = \",\")),vjust=\"inward\",hjust=\"inward\") +\n",
    "        labs(x = \"Loan Status\", y = \"Number of Notes\")\n",
    "} else if(YTD_display_method == \"percent\"){\n",
    "    YTD_data_disply %>% \n",
    "        ggplot(mapping = aes(x = loan_status,y = pct_loan)) +\n",
    "        geom_col(fill = \"skyblue3\") +\n",
    "        #aethetics\n",
    "        theme_light() +\n",
    "        coord_flip() +\n",
    "        #theme(axis.text.x = element_text(size = rel(1.2),angle = 30, hjust = 1)) +\n",
    "        #extra info\n",
    "        geom_text(mapping = aes(label = pct_dispaly,vjust = -0.3),vjust=\"inward\",hjust=\"inward\") +\n",
    "        labs(x = \"Loan Status\", y = \"Percentage\")\n",
    "}\n",
    "\n",
    "\n",
    "#------------------------------------------------------------\n",
    "tracked_loan_type <- \"Fully Paid\"\n",
    "\n",
    "\n",
    "track_plot_data <- dataset %>%\n",
    "    filter(month(issue_d) %in% c(select_start_data:select_end_month)) %>%\n",
    "    group_by(issue_d,loan_status) %>%\n",
    "    summarise(n_notes = n()) %>%\n",
    "    mutate(ttl_notes = sum(n_notes),\n",
    "           pct = n_notes/ttl_notes,\n",
    "           plot_date = ymd(str_replace(issue_d,\"[1-9]{2}$\",\"01\"))) %>%\n",
    "    ungroup()\n",
    "\n",
    "track_plot_data_specific <- track_plot_data %>%\n",
    "    filter(loan_status ==tracked_loan_type)\n",
    "\n",
    "track_plot_data_specific %>% \n",
    "    ggplot(mapping = aes(x = plot_date, y = n_notes)) +\n",
    "    geom_line(color = \"skyblue3\") +\n",
    "    geom_point() +\n",
    "    #aesthetics\n",
    "    scale_x_date(date_labels = \"%b %Y\",date_breaks = \"1 month\") +\n",
    "    scale_y_continuous(labels = comma) +\n",
    "    theme_light() +\n",
    "    labs(title = tracked_loan_type) +\n",
    "    #layer of info\n",
    "    geom_text(mapping = aes(y = n_notes,label = format(n_notes,big.mark = \",\")),vjust = -0.3) +\n",
    "    labs(x = \"Month\", y = \"Number of Notes\")\n",
    "\n",
    "\n",
    "# track_plot_data_specific %>% \n",
    "#     ggplot(mapping = aes(x = plot_date, y = pct)) +\n",
    "#     geom_line(color = \"skyblue3\") +\n",
    "#     geom_point() +\n",
    "#     #aesthetics\n",
    "#     theme_light() +\n",
    "#     scale_y_continuous(labels = percent) +\n",
    "#     scale_x_date(date_labels = \"%b %Y\",date_breaks = \"1 month\") +\n",
    "#     labs(title = tracked_loan_type) +\n",
    "#     #layer of info\n",
    "#     geom_text(mapping = aes(y = pct,label = str_c(round(100*pct,2),\"%\")),size = 5,vjust = -0.15)\n",
    "\n",
    "\n",
    "\n"
   ]
  },
  {
   "cell_type": "code",
   "execution_count": 23,
   "metadata": {},
   "outputs": [
    {
     "data": {
      "text/html": [
       "'LC_COLLATE=English_United States.1252;LC_CTYPE=English_United States.1252;LC_MONETARY=English_United States.1252;LC_NUMERIC=C;LC_TIME=English_United States.1252'"
      ],
      "text/latex": [
       "'LC\\_COLLATE=English\\_United States.1252;LC\\_CTYPE=English\\_United States.1252;LC\\_MONETARY=English\\_United States.1252;LC\\_NUMERIC=C;LC\\_TIME=English\\_United States.1252'"
      ],
      "text/markdown": [
       "'LC_COLLATE=English_United States.1252;LC_CTYPE=English_United States.1252;LC_MONETARY=English_United States.1252;LC_NUMERIC=C;LC_TIME=English_United States.1252'"
      ],
      "text/plain": [
       "[1] \"LC_COLLATE=English_United States.1252;LC_CTYPE=English_United States.1252;LC_MONETARY=English_United States.1252;LC_NUMERIC=C;LC_TIME=English_United States.1252\""
      ]
     },
     "metadata": {},
     "output_type": "display_data"
    },
    {
     "data": {},
     "metadata": {},
     "output_type": "display_data"
    },
    {
     "data": {
      "image/png": "[encoded data removed]",
      "text/plain": [
       "plot without title"
      ]
     },
     "metadata": {},
     "output_type": "display_data"
    }
   ],
   "source": [
    "#ratio check\n",
    "Sys.setlocale(\"LC_ALL\",\"English\")\n",
    "select_start_data <- 4\n",
    "select_end_month <- 6\n",
    "threshold_i <- 0.08\n",
    "\n",
    "# dataset %>%\n",
    "#     filter(select_month == month(issue_d)) %>%\n",
    "#     group_by(loan_status) %>%\n",
    "#     summarise(num_notes = n()) %>%\n",
    "#     mutate(ratio = num_notes/sum(num_notes)) %>%\n",
    "#     filter(loan_status == \"Fully Paid\" | loan_status == \"Charged Off\") %>%\n",
    "#     mutate(type = if_else(loan_status == \"Fully Paid\",\n",
    "#                           if_else(ratio < threshold_i,\"bad\",\"good\"),\n",
    "#                           if_else(ratio < threshold_i,\"good\",\"bad\"))) %>%\n",
    "#     ggplot(mapping = aes(x = loan_status, y = ratio)) +\n",
    "#     geom_col(mapping = aes(fill = type)) +\n",
    "#     #aesthetics below\n",
    "#     scale_y_continuous(labels = percent) +\n",
    "#     theme_light() +\n",
    "#     theme(legend.position=\"none\") +\n",
    "#     #add extra info\n",
    "#     geom_hline(yintercept = threshold_i, size = 1) +\n",
    "#     geom_text(mapping = aes(x = 0.7, y = threshold_i - 0.002,label = str_c(\"threshold: \",threshold_i*100,\"%\"))) +\n",
    "#     geom_text(mapping = aes(y = ratio + 0.002,label = str_c(signif(ratio*100,digits = 2),\"%\"))) +\n",
    "#     scale_fill_manual(values = c(good = \"skyblue3\", bad = \"firebrick3\"))\n",
    "\n",
    "#It seems like the purpose is to compare ratio between Fully Paid and Charged off\n",
    "\n",
    "plot_data <- dataset %>%\n",
    "    filter(month(issue_d) %in% c(select_start_data:select_end_month)) %>%\n",
    "    group_by(issue_d,loan_status) %>%\n",
    "    summarise(num_notes = n()) %>%\n",
    "    filter(loan_status == \"Fully Paid\" | loan_status == \"Charged Off\") %>%\n",
    "    spread(key = loan_status, value = num_notes) %>%\n",
    "    ungroup() %>%\n",
    "    mutate(ratio = .[[3]]/.[[2]],\n",
    "           type = ifelse(ratio < threshold_i, \"good\", \"bad\"),\n",
    "           plot_date = ymd(str_replace(issue_d,\"[1-9]{2}$\",\"01\"))) \n",
    "\n",
    "plot_data %>%\n",
    "    ggplot(mapping = aes(x = plot_date, y = ratio)) +\n",
    "    geom_col(mapping = aes(fill = type)) +\n",
    "    #aesthetics below\n",
    "    scale_y_continuous(labels = percent) +\n",
    "    theme_light() +\n",
    "    theme(legend.position=\"none\") +\n",
    "    labs(x =  \"\", y = \"\", title = \"Monthly charge-off/fully-paid ratio\") +\n",
    "    scale_x_date(date_labels = \"%b %Y\",date_breaks = \"1 month\") +\n",
    "    #add extra info\n",
    "    geom_hline(yintercept = threshold_i, size = 1) +\n",
    "    geom_text(mapping = aes(x = min(plot_data$plot_date), y = threshold_i - 0.002,label = str_c(\"threshold: \",threshold_i*100,\"%\")),hjust = 0.8) +\n",
    "    geom_text(mapping = aes(y = ratio + 0.002,label = str_c(signif(ratio*100,digits = 2),\"%\"))) +\n",
    "    scale_fill_manual(values = c(good = \"skyblue3\", bad = \"firebrick3\")) \n",
    "\n",
    "\n"
   ]
  }
 ],
 "metadata": {
  "kernelspec": {
   "display_name": "R",
   "language": "R",
   "name": "ir"
  },
  "language_info": {
   "codemirror_mode": "r",
   "file_extension": ".r",
   "mimetype": "text/x-r-source",
   "name": "R",
   "pygments_lexer": "r",
   "version": "3.4.2"
  }
 },
 "nbformat": 4,
 "nbformat_minor": 2
}
