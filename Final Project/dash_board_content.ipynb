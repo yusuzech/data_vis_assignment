{
 "cells": [
  {
   "cell_type": "code",
   "execution_count": 1,
   "metadata": {},
   "outputs": [
    {
     "data": {
      "text/html": [
       "'D:/Working_Space/R_Working/lending_club'"
      ],
      "text/latex": [
       "'D:/Working\\_Space/R\\_Working/lending\\_club'"
      ],
      "text/markdown": [
       "'D:/Working_Space/R_Working/lending_club'"
      ],
      "text/plain": [
       "[1] \"D:/Working_Space/R_Working/lending_club\""
      ]
     },
     "metadata": {},
     "output_type": "display_data"
    }
   ],
   "source": [
    "getwd()"
   ]
  },
  {
   "cell_type": "code",
   "execution_count": 2,
   "metadata": {},
   "outputs": [
    {
     "name": "stderr",
     "output_type": "stream",
     "text": [
      "Loading required package: readr\n",
      "Loading required package: stringr\n",
      "Loading required package: tidyverse\n",
      "-- Attaching packages --------------------------------------- tidyverse 1.2.1 --\n",
      "√ ggplot2 2.2.1     √ purrr   0.2.4\n",
      "√ tibble  1.3.4     √ dplyr   0.7.4\n",
      "√ tidyr   0.7.2     √ forcats 0.2.0\n",
      "-- Conflicts ------------------------------------------ tidyverse_conflicts() --\n",
      "x dplyr::filter() masks stats::filter()\n",
      "x dplyr::lag()    masks stats::lag()\n",
      "Loading required package: lubridate\n",
      "\n",
      "Attaching package: 'lubridate'\n",
      "\n",
      "The following object is masked from 'package:base':\n",
      "\n",
      "    date\n",
      "\n",
      "Parsed with column specification:\n",
      "cols(\n",
      "  .default = col_character(),\n",
      "  id = col_integer(),\n",
      "  loan_amnt = col_integer(),\n",
      "  installment = col_double(),\n",
      "  annual_inc = col_double(),\n",
      "  dti = col_double(),\n",
      "  delinq_2yrs = col_integer(),\n",
      "  mths_since_last_delinq = col_integer(),\n",
      "  revol_bal = col_integer(),\n",
      "  total_rec_late_fee = col_double(),\n",
      "  recoveries = col_integer(),\n",
      "  tot_coll_amt = col_integer(),\n",
      "  tot_cur_bal = col_integer(),\n",
      "  chargeoff_within_12_mths = col_integer(),\n",
      "  delinq_amnt = col_integer()\n",
      ")\n",
      "See spec(...) for full column specifications.\n",
      "Warning message in rbind(names(probs), probs_f):\n",
      "\"number of columns of result is not a multiple of vector length (arg 1)\"Warning message:\n",
      "\"13 parsing failures.\n",
      "row # A tibble: 5 x 5 col     row        col               expected actual expected   <int>      <chr>                  <chr>  <chr> actual 1 71811 recoveries no trailing characters    .76 file 2 75304 recoveries no trailing characters    .43 row 3 78086 recoveries no trailing characters    .58 col 4 84734 recoveries no trailing characters    .36 expected 5 85316 recoveries no trailing characters    .06 actual # ... with 1 more variables: file <chr>\n",
      "... ................. ... ................................................ ........ ................................................ ...... ................................................ .... ................................................ ... ................................................ ... ................................................ ........ ................................................ ...... .......................................\n",
      "See problems(...) for more details.\n",
      "\""
     ]
    },
    {
     "data": {
      "text/html": [
       "'LC_COLLATE=English_United States.1252;LC_CTYPE=English_United States.1252;LC_MONETARY=English_United States.1252;LC_NUMERIC=C;LC_TIME=English_United States.1252'"
      ],
      "text/latex": [
       "'LC\\_COLLATE=English\\_United States.1252;LC\\_CTYPE=English\\_United States.1252;LC\\_MONETARY=English\\_United States.1252;LC\\_NUMERIC=C;LC\\_TIME=English\\_United States.1252'"
      ],
      "text/markdown": [
       "'LC_COLLATE=English_United States.1252;LC_CTYPE=English_United States.1252;LC_MONETARY=English_United States.1252;LC_NUMERIC=C;LC_TIME=English_United States.1252'"
      ],
      "text/plain": [
       "[1] \"LC_COLLATE=English_United States.1252;LC_CTYPE=English_United States.1252;LC_MONETARY=English_United States.1252;LC_NUMERIC=C;LC_TIME=English_United States.1252\""
      ]
     },
     "metadata": {},
     "output_type": "display_data"
    },
    {
     "name": "stderr",
     "output_type": "stream",
     "text": [
      "Warning message in dir.create(\"data\"):\n",
      "\"'data' already exists\""
     ]
    }
   ],
   "source": [
    "#initial read\n",
    "source(\"require_packages.R\")\n",
    "require_packages(c(\"tidyverse\",\"stringr\",\"forcats\",\"lubridate\"))\n",
    "dataset <- read_csv(\"Lending Club Loan Status 2017Q2.csv\")\n",
    "#set syste locale\n",
    "Sys.setlocale(\"LC_ALL\",\"English\")\n",
    "\n",
    "#data cleaning\n",
    "#loan_status: \"Default\" Deleted\n",
    "dataset <- dataset %>%\n",
    "    filter(!(loan_status == \"Default\"))\n",
    "    \n",
    "#change class of columns(to factor)\n",
    "dataset <- dataset %>%\n",
    "    mutate(term = as.factor(term),\n",
    "           int_rate = as.numeric(str_sub(int_rate,start = 1L, end = -2L))/100,\n",
    "           grade = as.factor(grade),\n",
    "           sub_grade = as.factor(grade),\n",
    "           emp_length =  fct_relevel(factor(emp_length),\"10+ years\",after = 10),\n",
    "           home_ownership = as.factor(home_ownership),\n",
    "           issue_d = as.Date(str_c(\"2017-\",issue_d),format = \"%Y-%b-%d\"),\n",
    "           loan_status = factor(loan_status,\n",
    "                                   levels = c(\"Fully Paid\",\"Current\",\"In Grace Period\",\"Late (16-30 days)\",\"Late (31-120 days)\",\"Charged Off\")),\n",
    "           purpose = as.factor(purpose),\n",
    "           title = as.factor(title),\n",
    "           application_type = as.factor(application_type))\n",
    "\n",
    "dir.create(\"data\")\n",
    "saveRDS(dataset,\"data/dataset.RData\")"
   ]
  },
  {
   "cell_type": "code",
   "execution_count": 5,
   "metadata": {},
   "outputs": [],
   "source": [
    "#set up\n",
    "source(\"require_packages.R\")\n",
    "require_packages(c(\"tidyverse\",\"stringr\",\"forcats\",\"lubridate\",\"scales\"))\n",
    "dataset <- readRDS(\"data/dataset.RData\")\n"
   ]
  },
  {
   "cell_type": "code",
   "execution_count": 10,
   "metadata": {},
   "outputs": [],
   "source": [
    "#interactive variables\n",
    "select_start_data <- 4\n",
    "select_end_month <- 6\n",
    "tracked_loan_type = \"Fully Paid\"\n",
    "threshold_i <- 0.08"
   ]
  },
  {
   "cell_type": "code",
   "execution_count": 7,
   "metadata": {},
   "outputs": [
    {
     "data": {
      "text/html": [
       "<table>\n",
       "<thead><tr><th scope=col>total_loan_amount</th><th scope=col>total_number_of_loan</th></tr></thead>\n",
       "<tbody>\n",
       "\t<tr><td>$1538M </td><td>105,450</td></tr>\n",
       "</tbody>\n",
       "</table>\n"
      ],
      "text/latex": [
       "\\begin{tabular}{r|ll}\n",
       " total\\_loan\\_amount & total\\_number\\_of\\_loan\\\\\n",
       "\\hline\n",
       "\t \\$1538M & 105,450 \\\\\n",
       "\\end{tabular}\n"
      ],
      "text/markdown": [
       "\n",
       "total_loan_amount | total_number_of_loan | \n",
       "|---|\n",
       "| $1538M  | 105,450 | \n",
       "\n",
       "\n"
      ],
      "text/plain": [
       "  total_loan_amount total_number_of_loan\n",
       "1 $1538M            105,450             "
      ]
     },
     "metadata": {},
     "output_type": "display_data"
    }
   ],
   "source": [
    "#display total numbers\n",
    "source(\"setup.R\")\n",
    "#A glance of total loan amount; number of loans\n",
    "#what's the order\n",
    "# n_loan_status <- 6\n",
    "# total_loan <- dataset %>%\n",
    "#     group_by(loan_status) %>%\n",
    "#     summarise(total_loan = sum(loan_amnt)) %>%\n",
    "#     spread(key = loan_status, value = total_loan) %>%\n",
    "#     mutate_(total_loan = sum(eval(parse(text = \n",
    "#                                             str_c(str_c(rep(\".[[\",n_loan_status),1:n_loan_status,\"]]\"),c(rep(\"+\",n_loan_status-1),\"\"),collapse = \"\")))));total_loan\n",
    "# total_loan_v <- as.numeric(total_loan)\n",
    "# names(total_loan_v) <- colnames(total_loan);total_loan_v\n",
    "# #result in millions    \n",
    "# total_loan_million_v <- str_c(round(total_loan/1000000,2),\"m\");total_loan_million\n",
    "# names(total_loan_million_v) <- colnames(total_loan);total_loan_million_v\n",
    "# \n",
    "# total_number_loans <- dataset %>%\n",
    "#     group_by(loan_status) %>%\n",
    "#     summarise(total_loan = n()) %>%\n",
    "#     spread(key = loan_status, value = total_loan) %>%\n",
    "#     mutate_(total_loan = sum(eval(parse(text = str_c(str_c(rep(\".[[\",n_loan_status),1:n_loan_status,\"]]\"),c(rep(\"+\",n_loan_status-1),\"\"),collapse = \"\")))));total_number_loans\n",
    "# \n",
    "# total_number_loans_v <- as.numeric(total_number_loans)\n",
    "# names(total_number_loans_v) <- colnames(total_loan);total_number_loans_v\n",
    "total_numbers <- dataset %>%\n",
    "    filter(month(issue_d) %in% c(select_start_data:select_end_month)) %>%\n",
    "    group_by(loan_status) %>%\n",
    "    summarise(sum_loan = sum(loan_amnt),num_loan = n()) %>%\n",
    "    summarize(total_loan_amount = sum(sum_loan), total_number_of_loan = sum(num_loan))\n",
    "\n",
    "total_numbers_display <- total_numbers %>%\n",
    "    mutate(total_loan_amount = str_c(\"$\",round(total_loan_amount/1000000),\"M\"),\n",
    "           total_number_of_loan = format(total_number_of_loan,big.mark = \",\"));total_numbers_display"
   ]
  },
  {
   "cell_type": "code",
   "execution_count": 8,
   "metadata": {},
   "outputs": [
    {
     "name": "stderr",
     "output_type": "stream",
     "text": [
      "Warning message:\n",
      "\"attributes are not identical across measure variables;\n",
      "they will be dropped\""
     ]
    },
    {
     "data": {
      "text/html": [
       "<table>\n",
       "<thead><tr><th scope=col>var</th><th scope=col>1</th><th scope=col>2</th><th scope=col>3</th><th scope=col>4</th><th scope=col>5</th><th scope=col>6</th></tr></thead>\n",
       "<tbody>\n",
       "\t<tr><td>loan_status       </td><td>Fully Paid        </td><td>Current           </td><td>In Grace Period   </td><td>Late (16-30 days) </td><td>Late (31-120 days)</td><td>Charged Off       </td></tr>\n",
       "\t<tr><td>num_loan          </td><td>7731              </td><td>93683             </td><td>1394              </td><td>473               </td><td>1711              </td><td>458               </td></tr>\n",
       "\t<tr><td>pct_dispaly       </td><td>7.33%             </td><td>88.84%            </td><td>1.32%             </td><td>0.45%             </td><td>1.62%             </td><td>0.43%             </td></tr>\n",
       "</tbody>\n",
       "</table>\n"
      ],
      "text/latex": [
       "\\begin{tabular}{r|lllllll}\n",
       " var & 1 & 2 & 3 & 4 & 5 & 6\\\\\n",
       "\\hline\n",
       "\t loan\\_status      & Fully Paid         & Current            & In Grace Period    & Late (16-30 days)  & Late (31-120 days) & Charged Off       \\\\\n",
       "\t num\\_loan         & 7731               & 93683              & 1394               & 473                & 1711               & 458               \\\\\n",
       "\t pct\\_dispaly        & 7.33\\%              & 88.84\\%             & 1.32\\%              & 0.45\\%              & 1.62\\%              & 0.43\\%             \\\\\n",
       "\\end{tabular}\n"
      ],
      "text/markdown": [
       "\n",
       "var | 1 | 2 | 3 | 4 | 5 | 6 | \n",
       "|---|---|---|\n",
       "| loan_status        | Fully Paid         | Current            | In Grace Period    | Late (16-30 days)  | Late (31-120 days) | Charged Off        | \n",
       "| num_loan           | 7731               | 93683              | 1394               | 473                | 1711               | 458                | \n",
       "| pct_dispaly        | 7.33%              | 88.84%             | 1.32%              | 0.45%              | 1.62%              | 0.43%              | \n",
       "\n",
       "\n"
      ],
      "text/plain": [
       "  var         1          2       3               4                \n",
       "1 loan_status Fully Paid Current In Grace Period Late (16-30 days)\n",
       "2 num_loan    7731       93683   1394            473              \n",
       "3 pct_dispaly 7.33%      88.84%  1.32%           0.45%            \n",
       "  5                  6          \n",
       "1 Late (31-120 days) Charged Off\n",
       "2 1711               458        \n",
       "3 1.62%              0.43%      "
      ]
     },
     "metadata": {},
     "output_type": "display_data"
    }
   ],
   "source": [
    "#Display by each status\n",
    "# of notes by loan status YTD\n",
    "# % of notes by loan status YTD\n",
    "YTD_data <- dataset %>%\n",
    "    filter(month(issue_d) %in% c(select_start_data:select_end_month)) %>%\n",
    "    group_by(loan_status) %>%\n",
    "    summarise(num_loan = n()) %>%\n",
    "    mutate(pct_loan = num_loan/sum(num_loan)) \n",
    "\n",
    "YTD_disply <- YTD_data %>%\n",
    "    mutate(pct_dispaly = str_c(round(pct_loan*100,2),\"%\")) %>%\n",
    "    select(loan_status,num_loan,pct_dispaly)\n",
    "    \n",
    "\n",
    "\n",
    "\n",
    "YTD_table_display <- YTD_disply %>%\n",
    "    rownames_to_column() %>% \n",
    "    gather(var, value, -rowname) %>% \n",
    "    spread(rowname, value) ;YTD_table_display"
   ]
  },
  {
   "cell_type": "code",
   "execution_count": 9,
   "metadata": {},
   "outputs": [
    {
     "data": {},
     "metadata": {},
     "output_type": "display_data"
    },
    {
     "data": {},
     "metadata": {},
     "output_type": "display_data"
    },
    {
     "data": {
      "image/png": "[encoded data removed]",
      "text/plain": [
       "plot without title"
      ]
     },
     "metadata": {},
     "output_type": "display_data"
    },
    {
     "data": {
      "image/png": "[encoded data removed]",
      "text/plain": [
       "plot without title"
      ]
     },
     "metadata": {},
     "output_type": "display_data"
    }
   ],
   "source": [
    "#track ratio and total number of the specific type\n",
    "track_plot_data <- dataset %>%\n",
    "    filter(month(issue_d) %in% c(select_start_data:select_end_month)) %>%\n",
    "    group_by(issue_d,loan_status) %>%\n",
    "    summarise(n_notes = n()) %>%\n",
    "    mutate(ttl_notes = sum(n_notes),\n",
    "           pct = n_notes/ttl_notes,\n",
    "           plot_date = ymd(str_replace(issue_d,\"[1-9]{2}$\",\"01\"))) %>%\n",
    "    ungroup()\n",
    "\n",
    "track_plot_data_specific <- track_plot_data %>%\n",
    "    filter(loan_status ==tracked_loan_type)\n",
    "\n",
    "\n",
    "track_plot_data_specific %>% \n",
    "    ggplot(mapping = aes(x = plot_date, y = n_notes)) +\n",
    "    geom_col(fill = \"skyblue3\") +\n",
    "    #aesthetics\n",
    "    scale_x_date(date_labels = \"%b %Y\",date_breaks = \"1 month\") +\n",
    "    scale_y_continuous(labels = comma) +\n",
    "    theme_light() +\n",
    "    labs(title = tracked_loan_type) +\n",
    "    #layer of info\n",
    "    geom_text(mapping = aes(y = n_notes,label = format(n_notes,big.mark = \",\")),size = 5,vjust = -0.15)\n",
    "\n",
    "\n",
    "track_plot_data_specific %>% \n",
    "    ggplot(mapping = aes(x = plot_date, y = pct)) +\n",
    "    geom_col(fill = \"skyblue3\") +\n",
    "    theme_light() +\n",
    "    #aesthetics\n",
    "    scale_y_continuous(labels = percent) +\n",
    "    scale_x_date(date_labels = \"%b %Y\",date_breaks = \"1 month\") +\n",
    "    labs(title = tracked_loan_type) +\n",
    "    #layer of info\n",
    "    geom_text(mapping = aes(y = pct,label = str_c(round(100*pct,2),\"%\")),size = 5,vjust = -0.15)\n",
    "\n",
    "\n"
   ]
  },
  {
   "cell_type": "code",
   "execution_count": 11,
   "metadata": {},
   "outputs": [
    {
     "data": {},
     "metadata": {},
     "output_type": "display_data"
    },
    {
     "data": {
      "image/png": "[encoded data removed]",
      "text/plain": [
       "plot without title"
      ]
     },
     "metadata": {},
     "output_type": "display_data"
    }
   ],
   "source": [
    "# dataset %>%\n",
    "#     filter(select_month == month(issue_d)) %>%\n",
    "#     group_by(loan_status) %>%\n",
    "#     summarise(num_notes = n()) %>%\n",
    "#     mutate(ratio = num_notes/sum(num_notes)) %>%\n",
    "#     filter(loan_status == \"Fully Paid\" | loan_status == \"Charged Off\") %>%\n",
    "#     mutate(type = if_else(loan_status == \"Fully Paid\",\n",
    "#                           if_else(ratio < threshold_i,\"bad\",\"good\"),\n",
    "#                           if_else(ratio < threshold_i,\"good\",\"bad\"))) %>%\n",
    "#     ggplot(mapping = aes(x = loan_status, y = ratio)) +\n",
    "#     geom_col(mapping = aes(fill = type)) +\n",
    "#     #aesthetics below\n",
    "#     scale_y_continuous(labels = percent) +\n",
    "#     theme_light() +\n",
    "#     theme(legend.position=\"none\") +\n",
    "#     #add extra info\n",
    "#     geom_hline(yintercept = threshold_i, size = 1) +\n",
    "#     geom_text(mapping = aes(x = 0.7, y = threshold_i - 0.002,label = str_c(\"threshold: \",threshold_i*100,\"%\"))) +\n",
    "#     geom_text(mapping = aes(y = ratio + 0.002,label = str_c(signif(ratio*100,digits = 2),\"%\"))) +\n",
    "#     scale_fill_manual(values = c(good = \"skyblue3\", bad = \"firebrick3\"))\n",
    "\n",
    "#It seems like the purpose is to compare ratio between Fully Paid and Charged off\n",
    "\n",
    "plot_data <- dataset %>%\n",
    "    filter(month(issue_d) %in% c(select_start_data:select_end_month)) %>%\n",
    "    group_by(issue_d,loan_status) %>%\n",
    "    summarise(num_notes = n()) %>%\n",
    "    filter(loan_status == \"Fully Paid\" | loan_status == \"Charged Off\") %>%\n",
    "    spread(key = loan_status, value = num_notes) %>%\n",
    "    ungroup() %>%\n",
    "    mutate(ratio = .[[3]]/.[[2]],\n",
    "           type = ifelse(ratio < threshold_i, \"good\", \"bad\"),\n",
    "           plot_date = ymd(str_replace(issue_d,\"[1-9]{2}$\",\"01\"))) \n",
    "\n",
    "plot_data %>%\n",
    "    ggplot(mapping = aes(x = plot_date, y = ratio)) +\n",
    "    geom_col(mapping = aes(fill = type)) +\n",
    "    #aesthetics below\n",
    "    scale_y_continuous(labels = percent) +\n",
    "    theme_light() +\n",
    "    theme(legend.position=\"none\") +\n",
    "    labs(x =  \"\", y = \"\", title = \"Monthly charge-off/fully-paid ratio\") +\n",
    "    scale_x_date(date_labels = \"%b %Y\",date_breaks = \"1 month\") +\n",
    "    #add extra info\n",
    "    geom_hline(yintercept = threshold_i, size = 1) +\n",
    "    geom_text(mapping = aes(x = min(plot_data$plot_date), y = threshold_i - 0.002,label = str_c(\"threshold: \",threshold_i*100,\"%\")),hjust = 0.8) +\n",
    "    geom_text(mapping = aes(y = ratio + 0.002,label = str_c(signif(ratio*100,digits = 2),\"%\"))) +\n",
    "    scale_fill_manual(values = c(good = \"skyblue3\", bad = \"firebrick3\")) "
   ]
  }
 ],
 "metadata": {
  "kernelspec": {
   "display_name": "R",
   "language": "R",
   "name": "ir"
  },
  "language_info": {
   "codemirror_mode": "r",
   "file_extension": ".r",
   "mimetype": "text/x-r-source",
   "name": "R",
   "pygments_lexer": "r",
   "version": "3.4.2"
  }
 },
 "nbformat": 4,
 "nbformat_minor": 2
}
